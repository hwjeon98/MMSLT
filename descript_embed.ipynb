{
 "cells": [
  {
   "cell_type": "code",
   "execution_count": null,
   "metadata": {},
   "outputs": [],
   "source": [
    "import torch\n",
    "torch.cuda.is_available()"
   ]
  },
  {
   "cell_type": "code",
   "execution_count": null,
   "metadata": {},
   "outputs": [],
   "source": [
    "path = \"path/to/your/descriptions\"\n",
    "\n",
    "train = torch.load(path + \"phoenix_SLdescriptions.train\")\n",
    "dev = torch.load(path + \"phoenix_SLdescriptions.dev\")\n",
    "test = torch.load(path + \"phoenix_SLdescriptions.test\")\n",
    "\n",
    "print(len(train))\n",
    "print(len(dev))\n",
    "print(len(test))"
   ]
  },
  {
   "cell_type": "code",
   "execution_count": null,
   "metadata": {},
   "outputs": [],
   "source": [
    "from transformers import BertTokenizer, BertModel\n",
    "from tqdm import tqdm\n",
    "\n",
    "device = torch.device(\"cuda:0\")\n",
    "\n",
    "tokenizer = BertTokenizer.from_pretrained('bert-base-cased')\n",
    "model = BertModel.from_pretrained(\"bert-base-cased\")\n",
    "model.to(device)\n",
    "from collections import defaultdict\n",
    "\n",
    "new_train = defaultdict(dict)\n",
    "new_dev = defaultdict(dict)\n",
    "new_test = defaultdict(dict)\n",
    "\n",
    "for k,v in tqdm(train.items()):\n",
    "    inputs = tokenizer(v, return_tensors='pt', padding=True, truncation=True)\n",
    "    with torch.no_grad(): \n",
    "        outputs = model(input_ids=inputs['input_ids'].to(device), attention_mask=inputs['attention_mask'].to(device))\n",
    "        outputs = outputs.last_hidden_state[:, 0, :]\n",
    "    new_train[k]['texts'] = v\n",
    "    new_train[k]['bert_feat'] = outputs.cpu()\n",
    "    \n",
    "for k,v in tqdm(dev.items()):\n",
    "    inputs = tokenizer(v, return_tensors='pt', padding=True, truncation=True)\n",
    "    with torch.no_grad(): \n",
    "        outputs = model(input_ids=inputs['input_ids'].to(device), attention_mask=inputs['attention_mask'].to(device))\n",
    "        outputs = outputs.last_hidden_state[:, 0, :]\n",
    "    new_dev[k]['texts'] = v\n",
    "    new_dev[k]['bert_feat'] = outputs.cpu()\n",
    "    \n",
    "for k,v in tqdm(test.items()):\n",
    "    inputs = tokenizer(v, return_tensors='pt', padding=True, truncation=True)\n",
    "    with torch.no_grad(): \n",
    "        outputs = model(input_ids=inputs['input_ids'].to(device), attention_mask=inputs['attention_mask'].to(device))\n",
    "        outputs = outputs.last_hidden_state[:, 0, :]\n",
    "    new_test[k]['texts'] = v\n",
    "    new_test[k]['bert_feat'] = outputs.cpu()\n",
    "    \n",
    "torch.save(new_train, path + \"phoenix_SLdescriptions.train\")\n",
    "torch.save(new_dev, path + \"phoenix_SLdescriptions.dev\")\n",
    "torch.save(new_test, path + \"phoenix_SLdescriptions.test\")"
   ]
  },
  {
   "cell_type": "code",
   "execution_count": null,
   "metadata": {},
   "outputs": [],
   "source": []
  }
 ],
 "metadata": {
  "kernelspec": {
   "display_name": "gfslt",
   "language": "python",
   "name": "python3"
  },
  "language_info": {
   "codemirror_mode": {
    "name": "ipython",
    "version": 3
   },
   "file_extension": ".py",
   "mimetype": "text/x-python",
   "name": "python",
   "nbconvert_exporter": "python",
   "pygments_lexer": "ipython3",
   "version": "3.8.0"
  }
 },
 "nbformat": 4,
 "nbformat_minor": 2
}
